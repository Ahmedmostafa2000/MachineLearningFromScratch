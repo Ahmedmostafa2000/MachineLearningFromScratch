{
 "cells": [
  {
   "cell_type": "code",
   "execution_count": 3,
   "metadata": {},
   "outputs": [],
   "source": [
    "import numpy as np\n",
    "\n",
    "class LinearRegression:\n",
    "    def __init__(self):\n",
    "        self.theta = []  # Initialize theta (model parameters)\n",
    "\n",
    "    def fit(self, x, y):\n",
    "        \"\"\"\n",
    "        Fit the linear regression model to the training data.\n",
    "\n",
    "        Parameters:\n",
    "        x (numpy array): Input features\n",
    "        y (numpy array): Target variable\n",
    "        \"\"\"\n",
    "        self.x = x  # Store input features\n",
    "        self.y = y  # Store target variable\n",
    "        self.theta = np.linalg.inv(self.x.T @ self.x) @ self.x.T @ self.y  # Calculate parameters using the normal equation\n",
    "\n",
    "    def predict(self, x):\n",
    "        \"\"\"\n",
    "        Predict the target variable for new input features.\n",
    "\n",
    "        Parameters:\n",
    "        x (numpy array): New input features for prediction\n",
    "\n",
    "        Returns:\n",
    "        numpy array: Predicted target variable\n",
    "        \"\"\"\n",
    "        return x @ self.theta  # Predict the target variable\n"
   ]
  },
  {
   "cell_type": "code",
   "execution_count": 4,
   "metadata": {},
   "outputs": [
    {
     "name": "stdout",
     "output_type": "stream",
     "text": [
      "Predictions: [6.66666667 8.        ]\n"
     ]
    }
   ],
   "source": [
    "model = LinearRegression()\n",
    "\n",
    "# Example data\n",
    "X = np.array([[1], [2], [3], [4]])\n",
    "y = np.array([2, 3, 4, 5])\n",
    "\n",
    "# Fit the model to the data\n",
    "model.fit(X, y)\n",
    "\n",
    "# Predict the target variable\n",
    "X_test = np.array([[5], [6]])\n",
    "y_pred = model.predict(X_test)\n",
    "print(\"Predictions:\", y_pred)"
   ]
  },
  {
   "cell_type": "code",
   "execution_count": 5,
   "metadata": {},
   "outputs": [
    {
     "name": "stdout",
     "output_type": "stream",
     "text": [
      "Predictions: [5.16666667 6.2       ]\n"
     ]
    }
   ],
   "source": [
    "model = LinearRegression()\n",
    "X = np.array([[10], [20], [30], [40]])\n",
    "y = np.array([2, 2, 3, 4])\n",
    "model.fit(X, y)\n",
    "X_test = np.array([[50], [60]])\n",
    "y_pred = model.predict(X_test)\n",
    "print(\"Predictions:\", y_pred)"
   ]
  },
  {
   "cell_type": "code",
   "execution_count": 6,
   "metadata": {},
   "outputs": [
    {
     "name": "stdout",
     "output_type": "stream",
     "text": [
      "Predictions: [10. 12.]\n"
     ]
    }
   ],
   "source": [
    "model = LinearRegression()\n",
    "\n",
    "# Example data\n",
    "X = np.array([[4], [3], [2], [1]])\n",
    "y = np.array([8, 6, 4, 2])\n",
    "\n",
    "# Fit the model to the data\n",
    "model.fit(X, y)\n",
    "\n",
    "# Predict the target variable\n",
    "X_test = np.array([[5], [6]])\n",
    "y_pred = model.predict(X_test)\n",
    "print(\"Predictions:\", y_pred)"
   ]
  },
  {
   "cell_type": "code",
   "execution_count": null,
   "metadata": {},
   "outputs": [],
   "source": []
  }
 ],
 "metadata": {
  "kernelspec": {
   "display_name": "Python 3.10.2 64-bit",
   "language": "python",
   "name": "python3"
  },
  "language_info": {
   "codemirror_mode": {
    "name": "ipython",
    "version": 3
   },
   "file_extension": ".py",
   "mimetype": "text/x-python",
   "name": "python",
   "nbconvert_exporter": "python",
   "pygments_lexer": "ipython3",
   "version": "3.10.2"
  },
  "orig_nbformat": 4,
  "vscode": {
   "interpreter": {
    "hash": "0cad00d5a13a3f60cb6d0dee52753d434f6ef86636012a882082aa2fea66afa5"
   }
  }
 },
 "nbformat": 4,
 "nbformat_minor": 2
}
